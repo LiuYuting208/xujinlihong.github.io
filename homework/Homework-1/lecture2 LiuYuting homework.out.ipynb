{
  "cells": [
    {
      "cell_type": "markdown",
      "metadata": {},
      "source": [
        "#"
      ],
      "id": "69484b20-144a-4f38-9846-47aa147fbb0e"
    },
    {
      "cell_type": "code",
      "execution_count": 3,
      "metadata": {},
      "outputs": [
        {
          "output_type": "stream",
          "name": "stdout",
          "text": [
            "66042"
          ]
        }
      ],
      "source": [
        "import pandas as pd\n",
        "data = pd.read_csv('seattle_pet_licenses.csv')\n",
        "num_pets = data.shape[0]\n",
        "print(f\"{num_pets}\")"
      ],
      "id": "cell-0"
    },
    {
      "cell_type": "code",
      "execution_count": 4,
      "metadata": {},
      "outputs": [
        {
          "output_type": "stream",
          "name": "stdout",
          "text": [
            "7"
          ]
        }
      ],
      "source": [
        "num_variables = data.shape[1]\n",
        "print(f\"{num_variables}\")"
      ],
      "id": "cell-1"
    },
    {
      "cell_type": "code",
      "execution_count": 5,
      "metadata": {},
      "outputs": [
        {
          "output_type": "stream",
          "name": "stdout",
          "text": [
            "animal_s_name\n",
            "Lucy       566\n",
            "Bella      451\n",
            "Charlie    447\n",
            "Name: count, dtype: int64"
          ]
        }
      ],
      "source": [
        "name_counts = data['animal_s_name'].value_counts()\n",
        "top_three_names = name_counts.head(3)\n",
        "print(top_three_names)"
      ],
      "id": "cell-2"
    }
  ],
  "nbformat": 4,
  "nbformat_minor": 5,
  "metadata": {
    "kernelspec": {
      "name": "python3",
      "display_name": "Python 3",
      "language": "python"
    },
    "language_info": {
      "name": "python",
      "codemirror_mode": {
        "name": "ipython",
        "version": "3"
      },
      "file_extension": ".py",
      "mimetype": "text/x-python",
      "nbconvert_exporter": "python",
      "pygments_lexer": "ipython3",
      "version": "3.11.10"
    }
  }
}