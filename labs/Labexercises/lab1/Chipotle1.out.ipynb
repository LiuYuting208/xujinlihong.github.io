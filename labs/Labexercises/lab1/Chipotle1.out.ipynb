{
  "cells": [
    {
      "cell_type": "markdown",
      "metadata": {},
      "source": [
        "# Ex2 - Getting and Knowing your Data\n",
        "\n",
        "This time we are going to pull data directly from the internet. Special\n",
        "thanks to: https://github.com/justmarkham for sharing the dataset and\n",
        "materials.\n",
        "\n",
        "### Step 1. Import the necessary libraries"
      ],
      "id": "15df8961-3e6a-4481-b9cc-5b1351917c1a"
    },
    {
      "cell_type": "code",
      "execution_count": 1,
      "metadata": {},
      "outputs": [],
      "source": [
        "import pandas as pd"
      ],
      "id": "cell-3"
    },
    {
      "cell_type": "markdown",
      "metadata": {},
      "source": [
        "### Step 2. Import the dataset from this [address](https://raw.githubusercontent.com/justmarkham/DAT8/master/data/chipotle.tsv)."
      ],
      "id": "48cc1952-b522-4887-978b-825f2ada2756"
    },
    {
      "cell_type": "code",
      "execution_count": 2,
      "metadata": {},
      "outputs": [
        {
          "output_type": "stream",
          "name": "stdout",
          "text": [
            "   order_id  quantity                              item_name  \\\n",
            "0         1         1           Chips and Fresh Tomato Salsa   \n",
            "1         1         1                                   Izze   \n",
            "2         1         1                       Nantucket Nectar   \n",
            "3         1         1  Chips and Tomatillo-Green Chili Salsa   \n",
            "4         2         2                           Chicken Bowl   \n",
            "\n",
            "                                  choice_description item_price  \n",
            "0                                                NaN     $2.39   \n",
            "1                                       [Clementine]     $3.39   \n",
            "2                                            [Apple]     $3.39   \n",
            "3                                                NaN     $2.39   \n",
            "4  [Tomatillo-Red Chili Salsa (Hot), [Black Beans...    $16.98   "
          ]
        }
      ],
      "source": [
        "url = 'https://raw.githubusercontent.com/justmarkham/DAT8/master/data/chipotle.tsv'\n",
        "data = pd.read_csv(url, sep='\\t')\n",
        "print(data.head())"
      ],
      "id": "cell-5"
    },
    {
      "cell_type": "markdown",
      "metadata": {},
      "source": [
        "### Step 3. Assign it to a variable called chipo."
      ],
      "id": "255f641f-fa73-45d8-9daa-e8d0e1687fce"
    },
    {
      "cell_type": "code",
      "execution_count": 3,
      "metadata": {},
      "outputs": [
        {
          "output_type": "stream",
          "name": "stdout",
          "text": [
            "   order_id  quantity                              item_name  \\\n",
            "0         1         1           Chips and Fresh Tomato Salsa   \n",
            "1         1         1                                   Izze   \n",
            "2         1         1                       Nantucket Nectar   \n",
            "3         1         1  Chips and Tomatillo-Green Chili Salsa   \n",
            "4         2         2                           Chicken Bowl   \n",
            "\n",
            "                                  choice_description item_price  \n",
            "0                                                NaN     $2.39   \n",
            "1                                       [Clementine]     $3.39   \n",
            "2                                            [Apple]     $3.39   \n",
            "3                                                NaN     $2.39   \n",
            "4  [Tomatillo-Red Chili Salsa (Hot), [Black Beans...    $16.98   "
          ]
        }
      ],
      "source": [
        "url = 'https://raw.githubusercontent.com/justmarkham/DAT8/master/data/chipotle.tsv'\n",
        "chipo = pd.read_csv(url, sep='\\t')\n",
        "print(chipo.head())"
      ],
      "id": "cell-7"
    },
    {
      "cell_type": "markdown",
      "metadata": {},
      "source": [
        "### Step 4. See the first 10 entries"
      ],
      "id": "93b0f616-9fd2-4221-a265-32cb9ee980cb"
    },
    {
      "cell_type": "code",
      "execution_count": 4,
      "metadata": {
        "scrolled": false
      },
      "outputs": [
        {
          "output_type": "stream",
          "name": "stdout",
          "text": [
            "   order_id  quantity                              item_name  \\\n",
            "0         1         1           Chips and Fresh Tomato Salsa   \n",
            "1         1         1                                   Izze   \n",
            "2         1         1                       Nantucket Nectar   \n",
            "3         1         1  Chips and Tomatillo-Green Chili Salsa   \n",
            "4         2         2                           Chicken Bowl   \n",
            "5         3         1                           Chicken Bowl   \n",
            "6         3         1                          Side of Chips   \n",
            "7         4         1                          Steak Burrito   \n",
            "8         4         1                       Steak Soft Tacos   \n",
            "9         5         1                          Steak Burrito   \n",
            "\n",
            "                                  choice_description item_price  \n",
            "0                                                NaN     $2.39   \n",
            "1                                       [Clementine]     $3.39   \n",
            "2                                            [Apple]     $3.39   \n",
            "3                                                NaN     $2.39   \n",
            "4  [Tomatillo-Red Chili Salsa (Hot), [Black Beans...    $16.98   \n",
            "5  [Fresh Tomato Salsa (Mild), [Rice, Cheese, Sou...    $10.98   \n",
            "6                                                NaN     $1.69   \n",
            "7  [Tomatillo Red Chili Salsa, [Fajita Vegetables...    $11.75   \n",
            "8  [Tomatillo Green Chili Salsa, [Pinto Beans, Ch...     $9.25   \n",
            "9  [Fresh Tomato Salsa, [Rice, Black Beans, Pinto...     $9.25   "
          ]
        }
      ],
      "source": [
        "url = 'https://raw.githubusercontent.com/justmarkham/DAT8/master/data/chipotle.tsv'\n",
        "chipo = pd.read_csv(url, sep='\\t')\n",
        "print(chipo.head(10))"
      ],
      "id": "cell-9"
    },
    {
      "cell_type": "markdown",
      "metadata": {},
      "source": [
        "### Step 5. What is the number of observations in the dataset?"
      ],
      "id": "e38f6d8a-3c7a-40d9-9a70-57c0a13007e9"
    },
    {
      "cell_type": "code",
      "execution_count": 5,
      "metadata": {},
      "outputs": [
        {
          "output_type": "stream",
          "name": "stdout",
          "text": [
            "The number of observations in the dataset is: 4622"
          ]
        }
      ],
      "source": [
        "url = 'https://raw.githubusercontent.com/justmarkham/DAT8/master/data/chipotle.tsv'\n",
        "chipo = pd.read_csv(url, sep='\\t')\n",
        "num_observations = chipo.shape[0]\n",
        "print(f\"The number of observations in the dataset is: {num_observations}\")\n",
        "\n",
        "\n"
      ],
      "id": "cell-11"
    },
    {
      "cell_type": "markdown",
      "metadata": {},
      "source": [
        "### Step 6. What is the number of columns in the dataset?"
      ],
      "id": "4e28d5c9-a260-42e1-a53f-7c44bfdbea1e"
    },
    {
      "cell_type": "code",
      "execution_count": 6,
      "metadata": {},
      "outputs": [
        {
          "output_type": "stream",
          "name": "stdout",
          "text": [
            "The number of columns in the dataset is: 5"
          ]
        }
      ],
      "source": [
        "url = 'https://raw.githubusercontent.com/justmarkham/DAT8/master/data/chipotle.tsv'\n",
        "chipo = pd.read_csv(url, sep='\\t')\n",
        "num_columns = chipo.shape[1]\n",
        "print(f\"The number of columns in the dataset is: {num_columns}\")"
      ],
      "id": "cell-13"
    },
    {
      "cell_type": "markdown",
      "metadata": {},
      "source": [
        "### Step 7. Print the name of all the columns."
      ],
      "id": "dfe37538-a630-43d4-beba-16f6b6a56e34"
    },
    {
      "cell_type": "code",
      "execution_count": 7,
      "metadata": {},
      "outputs": [
        {
          "output_type": "stream",
          "name": "stdout",
          "text": [
            "Column names: ['order_id', 'quantity', 'item_name', 'choice_description', 'item_price']"
          ]
        }
      ],
      "source": [
        "url = 'https://raw.githubusercontent.com/justmarkham/DAT8/master/data/chipotle.tsv'\n",
        "chipo = pd.read_csv(url, sep='\\t')\n",
        "print(\"Column names:\", chipo.columns.tolist())"
      ],
      "id": "cell-15"
    },
    {
      "cell_type": "markdown",
      "metadata": {},
      "source": [
        "### Step 8. How is the dataset indexed?"
      ],
      "id": "d8cb13ed-6cdb-4bc0-b87d-bf288b410d2f"
    },
    {
      "cell_type": "code",
      "execution_count": 8,
      "metadata": {},
      "outputs": [
        {
          "output_type": "stream",
          "name": "stdout",
          "text": [
            "Dataset Index: RangeIndex(start=0, stop=4622, step=1)"
          ]
        }
      ],
      "source": [
        "url = 'https://raw.githubusercontent.com/justmarkham/DAT8/master/data/chipotle.tsv'\n",
        "chipo = pd.read_csv(url, sep='\\t')\n",
        "print(\"Dataset Index:\", chipo.index)"
      ],
      "id": "cell-17"
    },
    {
      "cell_type": "markdown",
      "metadata": {},
      "source": [
        "### Step 9. Which was the most-ordered item?"
      ],
      "id": "fb6e91b9-81cf-40a0-be1f-2758711e2300"
    },
    {
      "cell_type": "code",
      "execution_count": 9,
      "metadata": {},
      "outputs": [
        {
          "output_type": "stream",
          "name": "stdout",
          "text": [
            "The most-ordered item is: Chicken Bowl"
          ]
        }
      ],
      "source": [
        "url = 'https://raw.githubusercontent.com/justmarkham/DAT8/master/data/chipotle.tsv'\n",
        "chipo = pd.read_csv(url, sep='\\t')\n",
        "most_ordered_item = chipo.groupby('item_name')['quantity'].sum().idxmax()\n",
        "print(f\"The most-ordered item is: {most_ordered_item}\")"
      ],
      "id": "cell-19"
    },
    {
      "cell_type": "markdown",
      "metadata": {},
      "source": [
        "### Step 10. For the most-ordered item, how many items were ordered?"
      ],
      "id": "0293085e-0511-4d5d-9c94-66f61081b034"
    },
    {
      "cell_type": "code",
      "execution_count": 10,
      "metadata": {},
      "outputs": [
        {
          "output_type": "stream",
          "name": "stdout",
          "text": [
            "The most-ordered item is: Chicken Bowl\n",
            "Total quantity ordered: 761"
          ]
        }
      ],
      "source": [
        "url = 'https://raw.githubusercontent.com/justmarkham/DAT8/master/data/chipotle.tsv'\n",
        "chipo = pd.read_csv(url, sep='\\t')\n",
        "item_order_counts = chipo.groupby('item_name')['quantity'].sum()\n",
        "most_ordered_item = item_order_counts.idxmax()\n",
        "total_quantity = item_order_counts.max()\n",
        "print(f\"The most-ordered item is: {most_ordered_item}\")\n",
        "print(f\"Total quantity ordered: {total_quantity}\")"
      ],
      "id": "cell-21"
    },
    {
      "cell_type": "markdown",
      "metadata": {},
      "source": [
        "### Step 11. What was the most ordered item in the choice_description column?"
      ],
      "id": "fc4bc1d5-f6c9-4e54-b415-15fb26801d09"
    },
    {
      "cell_type": "code",
      "execution_count": 11,
      "metadata": {},
      "outputs": [
        {
          "output_type": "stream",
          "name": "stdout",
          "text": [
            "The most-ordered choice description is: [Diet Coke]\n",
            "Total quantity ordered: 159"
          ]
        }
      ],
      "source": [
        "url = 'https://raw.githubusercontent.com/justmarkham/DAT8/master/data/chipotle.tsv'\n",
        "\n",
        "chipo = pd.read_csv(url, sep='\\t')\n",
        "\n",
        "choice_description_counts = chipo.groupby('choice_description')['quantity'].sum()\n",
        "\n",
        "most_ordered_choice_description = choice_description_counts.idxmax()\n",
        "total_quantity_choice_description = choice_description_counts.max()\n",
        "\n",
        "print(f\"The most-ordered choice description is: {most_ordered_choice_description}\")\n",
        "print(f\"Total quantity ordered: {total_quantity_choice_description}\")"
      ],
      "id": "cell-23"
    },
    {
      "cell_type": "markdown",
      "metadata": {},
      "source": [
        "### Step 12. How many items were orderd in total?"
      ],
      "id": "eefd1647-2579-4327-8319-a493ac53ae6e"
    },
    {
      "cell_type": "code",
      "execution_count": 12,
      "metadata": {},
      "outputs": [
        {
          "output_type": "stream",
          "name": "stdout",
          "text": [
            "Total number of items ordered: 4972"
          ]
        }
      ],
      "source": [
        "url = 'https://raw.githubusercontent.com/justmarkham/DAT8/master/data/chipotle.tsv'\n",
        "\n",
        "chipo = pd.read_csv(url, sep='\\t')\n",
        "\n",
        "total_items_ordered = chipo['quantity'].sum()\n",
        "\n",
        "print(f\"Total number of items ordered: {total_items_ordered}\")\n"
      ],
      "id": "cell-25"
    },
    {
      "cell_type": "markdown",
      "metadata": {},
      "source": [
        "### Step 13. Turn the item price into a float"
      ],
      "id": "b55075d9-4fc2-4e4b-80b5-bf221bc48639"
    },
    {
      "cell_type": "code",
      "execution_count": 13,
      "metadata": {},
      "outputs": [
        {
          "output_type": "stream",
          "name": "stderr",
          "text": [
            "<>:5: SyntaxWarning: invalid escape sequence '\\$'\n",
            "<>:5: SyntaxWarning: invalid escape sequence '\\$'\n",
            "/var/folders/sz/b50958sd0svgwh9b5nwg1d700000gn/T/ipykernel_28048/237049889.py:5: SyntaxWarning: invalid escape sequence '\\$'\n",
            "  chipo['item_price'] = chipo['item_price'].replace({'\\$': ''}, regex=True).astype(float)"
          ]
        },
        {
          "output_type": "stream",
          "name": "stdout",
          "text": [
            "   order_id  quantity                              item_name  \\\n",
            "0         1         1           Chips and Fresh Tomato Salsa   \n",
            "1         1         1                                   Izze   \n",
            "2         1         1                       Nantucket Nectar   \n",
            "3         1         1  Chips and Tomatillo-Green Chili Salsa   \n",
            "4         2         2                           Chicken Bowl   \n",
            "\n",
            "                                  choice_description  item_price  \n",
            "0                                                NaN        2.39  \n",
            "1                                       [Clementine]        3.39  \n",
            "2                                            [Apple]        3.39  \n",
            "3                                                NaN        2.39  \n",
            "4  [Tomatillo-Red Chili Salsa (Hot), [Black Beans...       16.98  "
          ]
        }
      ],
      "source": [
        "url = 'https://raw.githubusercontent.com/justmarkham/DAT8/master/data/chipotle.tsv'\n",
        "\n",
        "chipo = pd.read_csv(url, sep='\\t')\n",
        "\n",
        "chipo['item_price'] = chipo['item_price'].replace({'\\$': ''}, regex=True).astype(float)\n",
        "\n",
        "print(chipo.head())\n"
      ],
      "id": "cell-27"
    },
    {
      "cell_type": "markdown",
      "metadata": {},
      "source": [
        "#### Step 13.a. Check the item price type"
      ],
      "id": "08c2c77d-da60-4dd7-8724-54021e4b81e6"
    },
    {
      "cell_type": "code",
      "execution_count": 14,
      "metadata": {},
      "outputs": [
        {
          "output_type": "stream",
          "name": "stderr",
          "text": [
            "<>:5: SyntaxWarning: invalid escape sequence '\\$'\n",
            "<>:5: SyntaxWarning: invalid escape sequence '\\$'\n",
            "/var/folders/sz/b50958sd0svgwh9b5nwg1d700000gn/T/ipykernel_28048/1092511423.py:5: SyntaxWarning: invalid escape sequence '\\$'\n",
            "  chipo['item_price'] = chipo['item_price'].replace({'\\$': ''}, regex=True).astype(float)"
          ]
        },
        {
          "output_type": "stream",
          "name": "stdout",
          "text": [
            "The data type of 'item_price' is: float64"
          ]
        }
      ],
      "source": [
        "url = 'https://raw.githubusercontent.com/justmarkham/DAT8/master/data/chipotle.tsv'\n",
        "\n",
        "chipo = pd.read_csv(url, sep='\\t')\n",
        "\n",
        "chipo['item_price'] = chipo['item_price'].replace({'\\$': ''}, regex=True).astype(float)\n",
        "\n",
        "print(f\"The data type of 'item_price' is: {chipo['item_price'].dtype}\")\n"
      ],
      "id": "cell-29"
    },
    {
      "cell_type": "markdown",
      "metadata": {},
      "source": [
        "#### Step 13.b. Create a lambda function and change the type of item price"
      ],
      "id": "284b8af8-db24-43b5-89d3-cfacdbe193ec"
    },
    {
      "cell_type": "code",
      "execution_count": 15,
      "metadata": {},
      "outputs": [
        {
          "output_type": "stream",
          "name": "stdout",
          "text": [
            "The data type of 'item_price' is: float64"
          ]
        }
      ],
      "source": [
        "chipo = pd.read_csv(url, sep='\\t')\n",
        "\n",
        "chipo['item_price'] = chipo['item_price'].apply(lambda x: float(x.replace('$', '')))\n",
        "\n",
        "print(f\"The data type of 'item_price' is: {chipo['item_price'].dtype}\")\n"
      ],
      "id": "cell-31"
    },
    {
      "cell_type": "markdown",
      "metadata": {},
      "source": [
        "#### Step 13.c. Check the item price type"
      ],
      "id": "d8e19c27-3eb2-414a-9b58-d217503d380d"
    },
    {
      "cell_type": "code",
      "execution_count": 16,
      "metadata": {},
      "outputs": [
        {
          "output_type": "stream",
          "name": "stdout",
          "text": [
            "The data type of 'item_price' is: float64"
          ]
        }
      ],
      "source": [
        "url = 'https://raw.githubusercontent.com/justmarkham/DAT8/master/data/chipotle.tsv'\n",
        "\n",
        "chipo = pd.read_csv(url, sep='\\t')\n",
        "\n",
        "chipo['item_price'] = chipo['item_price'].apply(lambda x: float(x.replace('$', '')))\n",
        "\n",
        "print(f\"The data type of 'item_price' is: {chipo['item_price'].dtype}\")\n"
      ],
      "id": "cell-33"
    },
    {
      "cell_type": "markdown",
      "metadata": {},
      "source": [
        "### Step 14. How much was the revenue for the period in the dataset?"
      ],
      "id": "60f71108-67e3-4e7d-a4fe-7d2d3ab7b5dd"
    },
    {
      "cell_type": "code",
      "execution_count": 17,
      "metadata": {},
      "outputs": [
        {
          "output_type": "stream",
          "name": "stdout",
          "text": [
            "Total revenue for the period: $39237.02"
          ]
        }
      ],
      "source": [
        "url = 'https://raw.githubusercontent.com/justmarkham/DAT8/master/data/chipotle.tsv'\n",
        "chipo = pd.read_csv(url, sep='\\t')\n",
        "\n",
        "chipo['item_price'] = chipo['item_price'].apply(lambda x: float(x.replace('$', '')))\n",
        "\n",
        "chipo['revenue'] = chipo['item_price'] * chipo['quantity']\n",
        "\n",
        "total_revenue = chipo['revenue'].sum()\n",
        "\n",
        "print(f\"Total revenue for the period: ${total_revenue:.2f}\")\n"
      ],
      "id": "cell-35"
    },
    {
      "cell_type": "markdown",
      "metadata": {},
      "source": [
        "### Step 15. How many orders were made in the period?"
      ],
      "id": "990f64ba-c8a7-4f7b-b954-46a7a90e8b8c"
    },
    {
      "cell_type": "code",
      "execution_count": 18,
      "metadata": {},
      "outputs": [
        {
          "output_type": "stream",
          "name": "stdout",
          "text": [
            "Total number of orders in the period: 4622"
          ]
        }
      ],
      "source": [
        "url = 'https://raw.githubusercontent.com/justmarkham/DAT8/master/data/chipotle.tsv'\n",
        "chipo = pd.read_csv(url, sep='\\t')\n",
        "num_orders = chipo.shape[0]\n",
        "print(f\"Total number of orders in the period: {num_orders}\")\n"
      ],
      "id": "cell-37"
    },
    {
      "cell_type": "markdown",
      "metadata": {},
      "source": [
        "### Step 16. What is the average revenue amount per order?"
      ],
      "id": "e24d6e25-5e0f-477b-b13a-34905644770f"
    },
    {
      "cell_type": "code",
      "execution_count": 19,
      "metadata": {},
      "outputs": [
        {
          "output_type": "stream",
          "name": "stdout",
          "text": [
            "Average revenue per order: $8.49"
          ]
        }
      ],
      "source": [
        "url = 'https://raw.githubusercontent.com/justmarkham/DAT8/master/data/chipotle.tsv'\n",
        "chipo = pd.read_csv(url, sep='\\t')\n",
        "chipo['item_price'] = chipo['item_price'].apply(lambda x: float(x.replace('$', '')))\n",
        "chipo['revenue'] = chipo['item_price'] * chipo['quantity']\n",
        "total_revenue = chipo['revenue'].sum()\n",
        "num_orders = chipo.shape[0]\n",
        "average_revenue_per_order = total_revenue / num_orders\n",
        "print(f\"Average revenue per order: ${average_revenue_per_order:.2f}\")\n",
        "\n",
        "\n"
      ],
      "id": "cell-39"
    },
    {
      "cell_type": "markdown",
      "metadata": {},
      "source": [
        "### Step 17. How many different items are sold?"
      ],
      "id": "2a83a52c-0088-47d6-bf65-4ac95c47a0ce"
    },
    {
      "cell_type": "code",
      "execution_count": 20,
      "metadata": {},
      "outputs": [
        {
          "output_type": "stream",
          "name": "stdout",
          "text": [
            "Number of different items sold: 50"
          ]
        }
      ],
      "source": [
        "url = 'https://raw.githubusercontent.com/justmarkham/DAT8/master/data/chipotle.tsv'\n",
        "chipo = pd.read_csv(url, sep='\\t')\n",
        "num_different_items = chipo['item_name'].nunique()\n",
        "print(f\"Number of different items sold: {num_different_items}\")\n"
      ],
      "id": "cell-41"
    }
  ],
  "nbformat": 4,
  "nbformat_minor": 5,
  "metadata": {
    "anaconda-cloud": {},
    "kernelspec": {
      "name": "python3",
      "display_name": "base",
      "language": "python"
    },
    "language_info": {
      "name": "python",
      "codemirror_mode": {
        "name": "ipython",
        "version": "3"
      },
      "file_extension": ".py",
      "mimetype": "text/x-python",
      "nbconvert_exporter": "python",
      "pygments_lexer": "ipython3",
      "version": "3.12.7"
    }
  }
}