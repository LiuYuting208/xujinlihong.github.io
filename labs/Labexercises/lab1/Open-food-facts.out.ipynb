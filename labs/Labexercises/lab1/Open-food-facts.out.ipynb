{
  "cells": [
    {
      "cell_type": "markdown",
      "metadata": {},
      "source": [
        "# Exercise 1\n",
        "\n",
        "### Step 1. Go to https://www.kaggle.com/openfoodfacts/world-food-facts/data\n",
        "\n",
        "### Step 2. Download the dataset to your computer and unzip it."
      ],
      "id": "4837d8e1-b487-448f-b82e-4c4be9079601"
    },
    {
      "cell_type": "code",
      "execution_count": 25,
      "metadata": {},
      "outputs": [],
      "source": [
        "import pandas as pd\n",
        "import numpy as np"
      ],
      "id": "cell-4"
    },
    {
      "cell_type": "markdown",
      "metadata": {},
      "source": [
        "### Step 3. Use the tsv file and assign it to a dataframe called food"
      ],
      "id": "fd187455-c657-4146-b5a8-11c7e5fb0902"
    },
    {
      "cell_type": "code",
      "execution_count": 26,
      "metadata": {},
      "outputs": [
        {
          "output_type": "stream",
          "name": "stderr",
          "text": [
            "/var/folders/sz/b50958sd0svgwh9b5nwg1d700000gn/T/ipykernel_26649/1381395504.py:1: DtypeWarning: Columns (0,3,5,19,20,24,25,26,27,28,36,37,38,39,48) have mixed types. Specify dtype option on import or set low_memory=False.\n",
            "  food  = pd.read_csv('en.openfoodfacts.org.products.tsv.zip', sep='\\t')"
          ]
        }
      ],
      "source": [
        "\n",
        "\n",
        "food  = pd.read_csv('en.openfoodfacts.org.products.tsv.zip', sep='\\t')\n"
      ],
      "id": "cell-6"
    },
    {
      "cell_type": "markdown",
      "metadata": {},
      "source": [
        "### Step 4. See the first 5 entries"
      ],
      "id": "488a889f-f156-4bb2-8dcc-f1e2477e9892"
    },
    {
      "cell_type": "code",
      "execution_count": 29,
      "metadata": {},
      "outputs": [
        {
          "output_type": "display_data",
          "metadata": {},
          "data": {
            "text/html": [
              "\n",
              "<p>5 rows × 163 columns</p>\n",
              "</div>"
            ]
          }
        }
      ],
      "source": [
        "food.head()"
      ],
      "id": "cell-8"
    },
    {
      "cell_type": "markdown",
      "metadata": {},
      "source": [
        "### Step 5. What is the number of observations in the dataset?"
      ],
      "id": "21066234-1ebe-44f8-ab83-f7a01d3eee6d"
    },
    {
      "cell_type": "code",
      "execution_count": 30,
      "metadata": {},
      "outputs": [
        {
          "output_type": "display_data",
          "metadata": {},
          "data": {
            "text/plain": [
              "(356027, 163)"
            ]
          }
        }
      ],
      "source": [
        "food.shape"
      ],
      "id": "cell-10"
    },
    {
      "cell_type": "code",
      "execution_count": 31,
      "metadata": {},
      "outputs": [
        {
          "output_type": "display_data",
          "metadata": {},
          "data": {
            "text/plain": [
              "356027"
            ]
          }
        }
      ],
      "source": [
        "food.shape[0]"
      ],
      "id": "cell-11"
    },
    {
      "cell_type": "markdown",
      "metadata": {},
      "source": [
        "### Step 6. What is the number of columns in the dataset?"
      ],
      "id": "d500b4cd-309b-45a0-a533-7ee6432107c1"
    },
    {
      "cell_type": "code",
      "execution_count": 32,
      "metadata": {},
      "outputs": [
        {
          "output_type": "stream",
          "name": "stdout",
          "text": [
            "(356027, 163)\n",
            "163\n",
            "<class 'pandas.core.frame.DataFrame'>\n",
            "RangeIndex: 356027 entries, 0 to 356026\n",
            "Columns: 163 entries, code to water-hardness_100g\n",
            "dtypes: float64(107), object(56)\n",
            "memory usage: 442.8+ MB"
          ]
        }
      ],
      "source": [
        "print(food.shape)\n",
        "print(food.shape[1])\n",
        "\n",
        "food.info()"
      ],
      "id": "cell-13"
    },
    {
      "cell_type": "markdown",
      "metadata": {},
      "source": [
        "### Step 7. Print the name of all the columns."
      ],
      "id": "016eabeb-c642-4cc7-9496-7e2fa7b02b49"
    },
    {
      "cell_type": "code",
      "execution_count": 33,
      "metadata": {},
      "outputs": [
        {
          "output_type": "display_data",
          "metadata": {},
          "data": {
            "text/plain": [
              "Index(['code', 'url', 'creator', 'created_t', 'created_datetime',\n",
              "       'last_modified_t', 'last_modified_datetime', 'product_name',\n",
              "       'generic_name', 'quantity',\n",
              "       ...\n",
              "       'fruits-vegetables-nuts_100g', 'fruits-vegetables-nuts-estimate_100g',\n",
              "       'collagen-meat-protein-ratio_100g', 'cocoa_100g', 'chlorophyl_100g',\n",
              "       'carbon-footprint_100g', 'nutrition-score-fr_100g',\n",
              "       'nutrition-score-uk_100g', 'glycemic-index_100g',\n",
              "       'water-hardness_100g'],\n",
              "      dtype='object', length=163)"
            ]
          }
        }
      ],
      "source": [
        "food.columns\n"
      ],
      "id": "cell-15"
    },
    {
      "cell_type": "markdown",
      "metadata": {},
      "source": [
        "### Step 8. What is the name of 105th column?"
      ],
      "id": "e300f752-51ed-4a17-b2d0-95a34de045da"
    },
    {
      "cell_type": "code",
      "execution_count": 34,
      "metadata": {},
      "outputs": [
        {
          "output_type": "display_data",
          "metadata": {},
          "data": {
            "text/plain": [
              "'-glucose_100g'"
            ]
          }
        }
      ],
      "source": [
        "food.columns[104]"
      ],
      "id": "cell-17"
    },
    {
      "cell_type": "markdown",
      "metadata": {},
      "source": [
        "### Step 9. What is the type of the observations of the 105th column?"
      ],
      "id": "1c417473-8e55-46be-8a15-e0eff1c5456c"
    },
    {
      "cell_type": "code",
      "execution_count": 35,
      "metadata": {},
      "outputs": [
        {
          "output_type": "display_data",
          "metadata": {},
          "data": {
            "text/plain": [
              "dtype('float64')"
            ]
          }
        }
      ],
      "source": [
        "food['-glucose_100g'].dtype"
      ],
      "id": "cell-19"
    },
    {
      "cell_type": "markdown",
      "metadata": {},
      "source": [
        "### Step 10. How is the dataset indexed?"
      ],
      "id": "7fe2d1fb-b62f-422c-abbf-c52710188e56"
    },
    {
      "cell_type": "code",
      "execution_count": 36,
      "metadata": {},
      "outputs": [
        {
          "output_type": "display_data",
          "metadata": {},
          "data": {
            "text/plain": [
              "RangeIndex(start=0, stop=356027, step=1)"
            ]
          }
        }
      ],
      "source": [
        "food.index"
      ],
      "id": "cell-21"
    },
    {
      "cell_type": "code",
      "execution_count": 23,
      "metadata": {},
      "outputs": [],
      "source": [
        "pd.set_option('display.max_colwidth', 300)"
      ],
      "id": "cell-22"
    },
    {
      "cell_type": "code",
      "execution_count": 19,
      "metadata": {},
      "outputs": [
        {
          "output_type": "display_data",
          "metadata": {},
          "data": {
            "text/html": [
              "\n",
              "<p>356027 rows × 2 columns</p>\n",
              "</div>"
            ]
          }
        }
      ],
      "source": [
        "food[['code','url']]"
      ],
      "id": "cell-23"
    },
    {
      "cell_type": "markdown",
      "metadata": {},
      "source": [
        "### Step 11. What is the product name of the 19th observation?"
      ],
      "id": "53f4fdf9-79a1-4d1b-91cf-3284a7e02d9c"
    },
    {
      "cell_type": "code",
      "execution_count": 37,
      "metadata": {},
      "outputs": [
        {
          "output_type": "display_data",
          "metadata": {},
          "data": {
            "text/plain": [
              "'Lotus Organic Brown Jasmine Rice'"
            ]
          }
        }
      ],
      "source": [
        "food.at[18, 'product_name']"
      ],
      "id": "cell-25"
    }
  ],
  "nbformat": 4,
  "nbformat_minor": 5,
  "metadata": {
    "anaconda-cloud": {},
    "kernelspec": {
      "name": "python3",
      "display_name": "base",
      "language": "python"
    },
    "language_info": {
      "name": "python",
      "codemirror_mode": {
        "name": "ipython",
        "version": "3"
      },
      "file_extension": ".py",
      "mimetype": "text/x-python",
      "nbconvert_exporter": "python",
      "pygments_lexer": "ipython3",
      "version": "3.12.7"
    }
  }
}